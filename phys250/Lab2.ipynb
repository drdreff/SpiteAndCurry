{
 "cells": [
  {
   "cell_type": "markdown",
   "id": "acda2f6e-8ce6-4cb3-92ec-66d265804e89",
   "metadata": {
    "tags": []
   },
   "source": [
    "## The Departed\n",
    "Groupmates: Jamin Chan, Mark Davis, & Alan Vongsavanh"
   ]
  },
  {
   "cell_type": "markdown",
   "id": "57c0c540-a643-404a-bad9-bf0b5aa862ce",
   "metadata": {},
   "source": [
    "| Height ($m$) | $g$ ($\\frac{m}{s^2}$) |\n",
    "| :--- | --- |\n",
    "| 1.0 | 14.84 |\n",
    "| 1.5 | 8.74 |\n",
    "| 2.0 | 7.72 |\n",
    "Table 1. Calculations of $g$ using $g=\\frac{2y_0}{t^2}$ for each height."
   ]
  },
  {
   "cell_type": "code",
   "execution_count": 20,
   "id": "a1454cac-b02b-4348-bb8f-18b519f94e3b",
   "metadata": {},
   "outputs": [
    {
     "data": {
      "text/latex": [
       "$\\displaystyle \\text{Average } g = 10.4333\\left(\\frac{m}{s^2}\\right)$"
      ],
      "text/plain": [
       "<IPython.core.display.Math object>"
      ]
     },
     "metadata": {},
     "output_type": "display_data"
    },
    {
     "data": {
      "text/latex": [
       "$\\displaystyle \\text{Standard Deviation }  = 3.1437$"
      ],
      "text/plain": [
       "<IPython.core.display.Math object>"
      ]
     },
     "metadata": {},
     "output_type": "display_data"
    }
   ],
   "source": [
    "import numpy as np\n",
    "import matplotlib.pyplot as plt\n",
    "import scipy.stats as stats\n",
    "from IPython.display import display, Math, Latex, Markdown\n",
    "\n",
    "# Data from testing:\n",
    "x = [0.367,0.586,0.72]\n",
    "y = [5.545,5.12,5.56] \n",
    "g = [14.84,8.74,7.72]\n",
    "\n",
    "display(Math(r'\\text{Average } g = %.4f\\left(\\frac{m}{s^2}\\right)'%np.average(g))) \n",
    "display(Math(r'\\text{Standard Deviation }  = %.4f'%np.std(g))) "
   ]
  },
  {
   "cell_type": "markdown",
   "id": "9dc61e21-fb7a-4691-b5f6-fee837a273fe",
   "metadata": {},
   "source": [
    "| Average Time ($s$) | Final Velocity ($\\frac{m}{s}$) |\n",
    "| ---: | ---: |\n",
    "| $\\frac{0.393 + 0.338 + 0.37}{3} = 0.367$ | $-5.545$ |\n",
    "| $\\frac{0.6 + 0.58 + 0.56 + 0.61}{5} = 0.586$ | $-5.12$ |\n",
    "| $\\frac{0.393 + 0.338 + 0.37}{3} = 0.72$ | $-5.56$ |\n",
    "Table 2. Calculated Final velocity using $V = \\frac{-2y_0}{s}$"
   ]
  },
  {
   "cell_type": "code",
   "execution_count": 12,
   "id": "71de0cf5-c6c9-416f-bb3e-395d06f9344f",
   "metadata": {
    "slideshow": {
     "slide_type": "slide"
    },
    "tags": [
     "remove-input"
    ]
   },
   "outputs": [
    {
     "data": {
      "image/png": "[encoded data removed]",
      "text/plain": [
       "<Figure size 432x288 with 1 Axes>"
      ]
     },
     "metadata": {
      "needs_background": "light"
     },
     "output_type": "display_data"
    },
    {
     "data": {
      "text/latex": [
       "$\\displaystyle F(x) = -0.151265x+(5.492689)$"
      ],
      "text/plain": [
       "<IPython.core.display.Math object>"
      ]
     },
     "metadata": {},
     "output_type": "display_data"
    },
    {
     "data": {
      "text/latex": [
       "$\\displaystyle R^2 = 0.011642$"
      ],
      "text/plain": [
       "<IPython.core.display.Math object>"
      ]
     },
     "metadata": {},
     "output_type": "display_data"
    }
   ],
   "source": [
    "# For reference \n",
    "# df = pd.DataFrame({\n",
    "#         'Height (m)':[1.0,1.5,2.0],\n",
    "#         'Acceleration':[14.9,8.74,7.72],\n",
    "#         'Final Velocity':[5.545,5.12,5.56]\n",
    "#                   })\n",
    "\n",
    "slope, intercept, r_value, p_value, std_err = stats.linregress(x, y)\n",
    "\n",
    "X = [0,0.2,0.4,0.6,0.8,1]\n",
    "\n",
    "# More correct, not fitting... \n",
    "# z = np.polynomial.polynomial.Polynomial.fit(x, y, 1)\n",
    "# p = np.poly1d(z.convert().coef) \n",
    "\n",
    "z = np.polyfit(x, y, 1)\n",
    "p = np.poly1d(z)\n",
    "# print(z)\n",
    "# print( np.polynomial.polynomial.Polynomial.fit(x, y, 1,full=True))\n",
    "\n",
    "plt.title(\"Final Velocity, The Departed\")\n",
    "plt.xlabel('time(s)')\n",
    "plt.xscale('linear')\n",
    "# plt.xticks(np.arange(0,0.8, step=0.1))\n",
    "plt.ylabel('Velocity (m/s)')\n",
    "\n",
    "# Scatter points \n",
    "plt.scatter(x, y,label = 'Velocity')\n",
    "# plt.plot(x,y,label='Linear (Series 1)')\n",
    "plt.plot(X, p(X),\"r--\", label='Linear (Velocity)')\n",
    "plt.figlegend()\n",
    "\n",
    "plt.show()\n",
    "r_squared = r_value * r_value\n",
    "display(Math(r'F(x) = %.6fx+(%.6f)'%(z[0],z[1])))\n",
    "display(Math(r'R^2 = %.6f'%(r_squared)))\n"
   ]
  },
  {
   "cell_type": "markdown",
   "id": "de4ab904-40a1-4d1e-bcab-4f2de0fc3f71",
   "metadata": {},
   "source": [
    "## Errors\n",
    "It appears that there were multiple potential sources of error from our measurements. The most significant sources of error for our group seemed to be systematic and based on human error which can be observed in the large deviation of our final calculations. \n",
    "\n",
    "The greatest variance came from the 1.0m measurement, which when anlayzed separately shows a very small standard deviation implying that the measurement was consistently incorrect. This analysis implies that the 1.0m measurement was incorrect due to systematic sources of error. The expected time for an object falling 1.0m is approxiamtely 0.45s. The difference between measured and expected times is between 2 and 4 frames of video at 30 frames per second. \n",
    "\n",
    "The 1.5m measurement was the most consistent of the three heights. Unlike the 1.0m measurement all of the time measurements are greater than the expected time of 0.55s. \n",
    "\n",
    "The 2.0m measurement had the greatest variance in recorded times. Two of the 3 measurements were larger than expected and one was smaller implying that the source of errors for this distance was random, and not systematic. "
   ]
  },
  {
   "cell_type": "code",
   "execution_count": 32,
   "id": "baf58df2-7801-4e6f-9aad-ab032874d0ec",
   "metadata": {},
   "outputs": [
    {
     "data": {
      "text/markdown": [
       "| Height (m) | Average (s) | Standard Deviation |\n",
       "| --- | --- | --- |\n",
       "|1.0 | 0.367000 | 0.022554 |\n",
       "|1.5 | 0.586000 | 0.017436 |\n",
       "|2.0 | 0.723333 | 0.081786 |\n",
       "Table 3: Time measurements at various heights.\n"
      ],
      "text/plain": [
       "<IPython.core.display.Markdown object>"
      ]
     },
     "execution_count": 32,
     "metadata": {},
     "output_type": "execute_result"
    }
   ],
   "source": [
    "m_1_0 = [0.393,0.338,0.37]\n",
    "m_1_5 = [0.6, 0.58 , 0.58, 0.56, 0.61]\n",
    "m_2_0 = [0.73, 0.62, 0.82]\n",
    "s_1_0 = np.std(m_1_0)\n",
    "s_1_5 = np.std(m_1_5)\n",
    "s_2_0 = np.std(m_2_0)\n",
    "\n",
    "Markdown(\"\"\"| Height (m) | Average (s) | Standard Deviation |\n",
    "| --- | --- | --- |\n",
    "|1.0 | %.6f | %.6f |\n",
    "|1.5 | %.6f | %.6f |\n",
    "|2.0 | %.6f | %.6f |\n",
    "Table 3: Time measurements at various heights.\n",
    "\"\"\"%(np.average(m_1_0),s_1_0, np.average(m_1_5),s_1_5, np.average(m_2_0),s_2_0))\n"
   ]
  }
 ],
 "metadata": {
  "kernelspec": {
   "display_name": "Python 3 (ipykernel)",
   "language": "python",
   "name": "python3"
  },
  "language_info": {
   "codemirror_mode": {
    "name": "ipython",
    "version": 3
   },
   "file_extension": ".py",
   "mimetype": "text/x-python",
   "name": "python",
   "nbconvert_exporter": "python",
   "pygments_lexer": "ipython3",
   "version": "3.9.7"
  },
  "toc-autonumbering": false,
  "toc-showmarkdowntxt": false
 },
 "nbformat": 4,
 "nbformat_minor": 5
}
