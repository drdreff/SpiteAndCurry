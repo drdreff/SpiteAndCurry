{
 "cells": [
  {
   "cell_type": "markdown",
   "id": "7849adb7-9c9b-4c86-be13-d69a4ad2c6ea",
   "metadata": {},
   "source": [
    "Lab 4 Notes: \n",
    "setup:\n",
    "1. measure the mass of the block 110g 109g 110g \n",
    "set up a force gaugue, apply power, plug USB into laptop, \n",
    "set up software \n",
    "tie hook to the string \n",
    "check zero on sensor to ensure calibration \n",
    "verify force sensor registers forces\n",
    "500g weight applied to block\n",
    "no tension, 2 second pause, pull sensor until block begins to move with constant velocity \n",
    "professor test: F_s = -1.8N F_k = -1.3N \n",
    "PASCO capstone software \n",
    "\n",
    "#1 wide side .61kg "
   ]
  }
 ],
 "metadata": {
  "kernelspec": {
   "display_name": "Python 3 (ipykernel)",
   "language": "python",
   "name": "python3"
  },
  "language_info": {
   "codemirror_mode": {
    "name": "ipython",
    "version": 3
   },
   "file_extension": ".py",
   "mimetype": "text/x-python",
   "name": "python",
   "nbconvert_exporter": "python",
   "pygments_lexer": "ipython3",
   "version": "3.9.7"
  }
 },
 "nbformat": 4,
 "nbformat_minor": 5
}
